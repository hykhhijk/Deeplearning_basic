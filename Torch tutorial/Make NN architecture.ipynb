{
 "cells": [
  {
   "cell_type": "code",
   "execution_count": 1,
   "id": "eaa1fc65",
   "metadata": {
    "ExecuteTime": {
     "end_time": "2022-09-22T10:02:56.779748Z",
     "start_time": "2022-09-22T10:02:56.500856Z"
    }
   },
   "outputs": [],
   "source": [
    "import os\n",
    "import torch\n",
    "from torch import nn\n",
    "from torch.utils.data import DataLoader\n",
    "from torchvision import datasets, transforms"
   ]
  },
  {
   "cell_type": "markdown",
   "id": "bcab7986",
   "metadata": {},
   "source": [
    "# Check training device "
   ]
  },
  {
   "cell_type": "code",
   "execution_count": 4,
   "id": "8733204c",
   "metadata": {
    "ExecuteTime": {
     "end_time": "2022-09-22T10:03:44.599334Z",
     "start_time": "2022-09-22T10:03:44.562972Z"
    }
   },
   "outputs": [
    {
     "name": "stdout",
     "output_type": "stream",
     "text": [
      "Using cuda device\n"
     ]
    }
   ],
   "source": [
    "device = \"cuda\" if torch.cuda.is_available() else \"cpu\"\n",
    "print(f\"Using {device} device\")"
   ]
  },
  {
   "cell_type": "markdown",
   "id": "a7a88e8d",
   "metadata": {},
   "source": [
    "# Define model class"
   ]
  },
  {
   "cell_type": "code",
   "execution_count": 11,
   "id": "c0d3b1cf",
   "metadata": {
    "ExecuteTime": {
     "end_time": "2022-09-22T10:08:23.438750Z",
     "start_time": "2022-09-22T10:08:23.422522Z"
    }
   },
   "outputs": [],
   "source": [
    "class NeuralNetwork(nn.Module):\n",
    "    def __init__(self):\n",
    "        super(NeuralNetwork, self).__init__()\n",
    "        self.flatten = nn.Flatten()\n",
    "        self.linear_relu_stack = nn.Sequential(\n",
    "        nn.Linear(28 * 28, 512),\n",
    "        nn.ReLU(),\n",
    "        nn.Linear(512, 512),\n",
    "        nn.ReLU(),\n",
    "        nn.Linear(512, 10),\n",
    "        )\n",
    "        \n",
    "    def forward(self, x):\n",
    "        x = self.flatten(x)\n",
    "        logits = self.linear_relu_stack(x)\n",
    "        return logits"
   ]
  },
  {
   "cell_type": "code",
   "execution_count": 12,
   "id": "8ae665f0",
   "metadata": {
    "ExecuteTime": {
     "end_time": "2022-09-22T10:08:24.567614Z",
     "start_time": "2022-09-22T10:08:24.437997Z"
    }
   },
   "outputs": [
    {
     "name": "stdout",
     "output_type": "stream",
     "text": [
      "NeuralNetwork(\n",
      "  (flatten): Flatten(start_dim=1, end_dim=-1)\n",
      "  (linear_relu_stack): Sequential(\n",
      "    (0): Linear(in_features=784, out_features=512, bias=True)\n",
      "    (1): ReLU()\n",
      "    (2): Linear(in_features=512, out_features=512, bias=True)\n",
      "    (3): ReLU()\n",
      "    (4): Linear(in_features=512, out_features=10, bias=True)\n",
      "  )\n",
      ")\n"
     ]
    }
   ],
   "source": [
    "model = NeuralNetwork().to(device)\n",
    "print(model)"
   ]
  },
  {
   "cell_type": "code",
   "execution_count": 18,
   "id": "24e1b3c5",
   "metadata": {
    "ExecuteTime": {
     "end_time": "2022-09-22T10:10:35.659572Z",
     "start_time": "2022-09-22T10:10:32.770684Z"
    }
   },
   "outputs": [
    {
     "name": "stdout",
     "output_type": "stream",
     "text": [
      "Predicted class: tensor([4], device='cuda:0')\n"
     ]
    }
   ],
   "source": [
    "X = torch.rand(1, 28, 28, device = device)\n",
    "logits = model(X)\n",
    "pred_prob = nn.Softmax(dim=1)(logits)\n",
    "y_pred = pred_prob.argmax(1)\n",
    "print(\"Predicted class: {}\".format(y_pred))"
   ]
  },
  {
   "cell_type": "code",
   "execution_count": 19,
   "id": "220094cb",
   "metadata": {
    "ExecuteTime": {
     "end_time": "2022-09-22T10:10:54.508195Z",
     "start_time": "2022-09-22T10:10:54.486088Z"
    }
   },
   "outputs": [
    {
     "name": "stdout",
     "output_type": "stream",
     "text": [
      "tensor([[0.0976, 0.0948, 0.0901, 0.0946, 0.1184, 0.1005, 0.0942, 0.1007, 0.1093,\n",
      "         0.0998]], device='cuda:0', grad_fn=<SoftmaxBackward0>)\n"
     ]
    }
   ],
   "source": [
    "print(pred_prob)"
   ]
  },
  {
   "cell_type": "markdown",
   "id": "2629b4c6",
   "metadata": {},
   "source": [
    "## Check layers from scratch"
   ]
  },
  {
   "cell_type": "code",
   "execution_count": 20,
   "id": "645adcbd",
   "metadata": {
    "ExecuteTime": {
     "end_time": "2022-09-22T10:18:52.948570Z",
     "start_time": "2022-09-22T10:18:52.929612Z"
    }
   },
   "outputs": [
    {
     "name": "stdout",
     "output_type": "stream",
     "text": [
      "torch.Size([3, 28, 28])\n"
     ]
    }
   ],
   "source": [
    "input_image = torch.rand(3, 28, 28)\n",
    "print(input_image.size())"
   ]
  },
  {
   "cell_type": "code",
   "execution_count": 23,
   "id": "3a1a1bdf",
   "metadata": {
    "ExecuteTime": {
     "end_time": "2022-09-22T10:19:19.152951Z",
     "start_time": "2022-09-22T10:19:19.145970Z"
    }
   },
   "outputs": [
    {
     "name": "stdout",
     "output_type": "stream",
     "text": [
      "torch.Size([3, 784])\n"
     ]
    }
   ],
   "source": [
    "flatten = nn.Flatten()\n",
    "flat_image = flatten(input_image)\n",
    "print(flat_image.size())"
   ]
  },
  {
   "cell_type": "code",
   "execution_count": 24,
   "id": "f179a673",
   "metadata": {
    "ExecuteTime": {
     "end_time": "2022-09-22T10:20:02.845836Z",
     "start_time": "2022-09-22T10:20:02.833766Z"
    }
   },
   "outputs": [
    {
     "name": "stdout",
     "output_type": "stream",
     "text": [
      "torch.Size([3, 20])\n"
     ]
    }
   ],
   "source": [
    "layer1 = nn.Linear(in_features = 28*28, out_features=20)\n",
    "hidden1 = layer1(flat_image)\n",
    "print(hidden1.size())"
   ]
  },
  {
   "cell_type": "code",
   "execution_count": 27,
   "id": "b66739fe",
   "metadata": {
    "ExecuteTime": {
     "end_time": "2022-09-22T10:21:06.422943Z",
     "start_time": "2022-09-22T10:21:06.414126Z"
    }
   },
   "outputs": [
    {
     "name": "stdout",
     "output_type": "stream",
     "text": [
      "Before ReLU: tensor([[ 0.5300, -0.6213,  0.3157,  0.1230, -0.4103,  0.0549, -0.3117,  0.0389,\n",
      "          0.5993, -0.3498, -0.2849,  0.0925, -0.1944, -0.1240,  0.1154, -0.3375,\n",
      "          0.0231, -0.3506, -0.0300, -0.1688],\n",
      "        [ 0.4044, -0.5024,  0.2037, -0.2348, -0.0553, -0.0534, -0.3783,  0.3472,\n",
      "         -0.0529, -0.0552,  0.1729,  0.0907, -0.4094,  0.0663,  0.2294, -0.1953,\n",
      "         -0.0280, -0.2487,  0.1352, -0.3047],\n",
      "        [ 0.5432, -0.4098,  0.0366, -0.3123,  0.0215, -0.0242, -0.5043,  0.2006,\n",
      "          0.2823, -0.0910, -0.0789,  0.2236, -0.3800, -0.0541, -0.4321, -0.2870,\n",
      "          0.1769, -0.4442,  0.1767, -0.5239]], grad_fn=<AddmmBackward0>)\n",
      "\n",
      "\n",
      "After ReLU: tensor([[0.5300, 0.0000, 0.3157, 0.1230, 0.0000, 0.0549, 0.0000, 0.0389, 0.5993,\n",
      "         0.0000, 0.0000, 0.0925, 0.0000, 0.0000, 0.1154, 0.0000, 0.0231, 0.0000,\n",
      "         0.0000, 0.0000],\n",
      "        [0.4044, 0.0000, 0.2037, 0.0000, 0.0000, 0.0000, 0.0000, 0.3472, 0.0000,\n",
      "         0.0000, 0.1729, 0.0907, 0.0000, 0.0663, 0.2294, 0.0000, 0.0000, 0.0000,\n",
      "         0.1352, 0.0000],\n",
      "        [0.5432, 0.0000, 0.0366, 0.0000, 0.0215, 0.0000, 0.0000, 0.2006, 0.2823,\n",
      "         0.0000, 0.0000, 0.2236, 0.0000, 0.0000, 0.0000, 0.0000, 0.1769, 0.0000,\n",
      "         0.1767, 0.0000]], grad_fn=<ReluBackward0>)\n"
     ]
    }
   ],
   "source": [
    "print(f\"Before ReLU: {hidden1}\\n\\n\")\n",
    "hidden1 = nn.ReLU()(hidden1)\n",
    "print(f\"After ReLU: {hidden1}\")"
   ]
  },
  {
   "cell_type": "code",
   "execution_count": 30,
   "id": "bd30614b",
   "metadata": {
    "ExecuteTime": {
     "end_time": "2022-09-22T10:23:03.559873Z",
     "start_time": "2022-09-22T10:23:03.553474Z"
    }
   },
   "outputs": [],
   "source": [
    "seq_modules = nn.Sequential(\n",
    "    flatten,\n",
    "    layer1,\n",
    "    nn.ReLU(),\n",
    "    nn.Linear(20, 10)\n",
    ")\n",
    "input_image = torch.rand(3, 28, 28)\n",
    "logits = seq_modules(input_image)"
   ]
  },
  {
   "cell_type": "code",
   "execution_count": 33,
   "id": "96e3204c",
   "metadata": {
    "ExecuteTime": {
     "end_time": "2022-09-22T10:24:08.491691Z",
     "start_time": "2022-09-22T10:24:08.485707Z"
    }
   },
   "outputs": [],
   "source": [
    "softmax = nn.Softmax(dim=1)\n",
    "pred_proba = softmax(logits)"
   ]
  },
  {
   "cell_type": "code",
   "execution_count": 34,
   "id": "d9afe36b",
   "metadata": {
    "ExecuteTime": {
     "end_time": "2022-09-22T10:24:12.362509Z",
     "start_time": "2022-09-22T10:24:12.341704Z"
    }
   },
   "outputs": [
    {
     "data": {
      "text/plain": [
       "tensor([[0.0962, 0.0883, 0.0925, 0.1094, 0.0816, 0.0962, 0.0803, 0.1288, 0.1134,\n",
       "         0.1132],\n",
       "        [0.1008, 0.0966, 0.0935, 0.1142, 0.0771, 0.0934, 0.0836, 0.1229, 0.1133,\n",
       "         0.1046],\n",
       "        [0.0974, 0.0924, 0.0882, 0.1195, 0.0777, 0.0929, 0.0827, 0.1255, 0.1090,\n",
       "         0.1146]], grad_fn=<SoftmaxBackward0>)"
      ]
     },
     "execution_count": 34,
     "metadata": {},
     "output_type": "execute_result"
    }
   ],
   "source": [
    "pred_proba"
   ]
  },
  {
   "cell_type": "markdown",
   "id": "9112b924",
   "metadata": {},
   "source": [
    "##  Model parameter"
   ]
  },
  {
   "cell_type": "code",
   "execution_count": 35,
   "id": "28e2d845",
   "metadata": {
    "ExecuteTime": {
     "end_time": "2022-09-22T10:27:57.905354Z",
     "start_time": "2022-09-22T10:27:57.882415Z"
    }
   },
   "outputs": [
    {
     "name": "stdout",
     "output_type": "stream",
     "text": [
      "Model structure: NeuralNetwork(\n",
      "  (flatten): Flatten(start_dim=1, end_dim=-1)\n",
      "  (linear_relu_stack): Sequential(\n",
      "    (0): Linear(in_features=784, out_features=512, bias=True)\n",
      "    (1): ReLU()\n",
      "    (2): Linear(in_features=512, out_features=512, bias=True)\n",
      "    (3): ReLU()\n",
      "    (4): Linear(in_features=512, out_features=10, bias=True)\n",
      "  )\n",
      ")\n",
      "\n",
      "\n",
      "Layer: linear_relu_stack.0.weight  \\  Size: torch.Size([512, 784])  |  Values: tensor([[ 0.0172, -0.0192, -0.0126,  ..., -0.0269, -0.0278, -0.0022],\n",
      "        [ 0.0099, -0.0019, -0.0189,  ...,  0.0230, -0.0266, -0.0012]],\n",
      "       device='cuda:0', grad_fn=<SliceBackward0>)\n",
      "\n",
      "Layer: linear_relu_stack.0.bias  \\  Size: torch.Size([512])  |  Values: tensor([0.0183, 0.0087], device='cuda:0', grad_fn=<SliceBackward0>)\n",
      "\n",
      "Layer: linear_relu_stack.2.weight  \\  Size: torch.Size([512, 512])  |  Values: tensor([[-0.0077, -0.0044, -0.0182,  ..., -0.0286,  0.0148,  0.0300],\n",
      "        [-0.0170, -0.0343,  0.0417,  ...,  0.0344, -0.0023,  0.0160]],\n",
      "       device='cuda:0', grad_fn=<SliceBackward0>)\n",
      "\n",
      "Layer: linear_relu_stack.2.bias  \\  Size: torch.Size([512])  |  Values: tensor([-0.0384,  0.0064], device='cuda:0', grad_fn=<SliceBackward0>)\n",
      "\n",
      "Layer: linear_relu_stack.4.weight  \\  Size: torch.Size([10, 512])  |  Values: tensor([[ 0.0375,  0.0351,  0.0341,  ...,  0.0206, -0.0161, -0.0110],\n",
      "        [-0.0033,  0.0185,  0.0341,  ..., -0.0108, -0.0398, -0.0028]],\n",
      "       device='cuda:0', grad_fn=<SliceBackward0>)\n",
      "\n",
      "Layer: linear_relu_stack.4.bias  \\  Size: torch.Size([10])  |  Values: tensor([ 0.0144, -0.0317], device='cuda:0', grad_fn=<SliceBackward0>)\n",
      "\n"
     ]
    }
   ],
   "source": [
    "print(f\"Model structure: {model}\\n\\n\")\n",
    "for name, param in model.named_parameters():\n",
    "    print(f\"Layer: {name}  \\  Size: {param.size()}  |  Values: {param[:2]}\\n\")"
   ]
  },
  {
   "cell_type": "code",
   "execution_count": 40,
   "id": "43c8813f",
   "metadata": {
    "ExecuteTime": {
     "end_time": "2022-09-22T10:28:26.194206Z",
     "start_time": "2022-09-22T10:28:26.174257Z"
    }
   },
   "outputs": [
    {
     "data": {
      "text/plain": [
       "('linear_relu_stack.0.weight',\n",
       " Parameter containing:\n",
       " tensor([[ 0.0172, -0.0192, -0.0126,  ..., -0.0269, -0.0278, -0.0022],\n",
       "         [ 0.0099, -0.0019, -0.0189,  ...,  0.0230, -0.0266, -0.0012],\n",
       "         [ 0.0211,  0.0335, -0.0061,  ..., -0.0181,  0.0290,  0.0319],\n",
       "         ...,\n",
       "         [ 0.0242,  0.0067,  0.0040,  ...,  0.0295,  0.0302,  0.0236],\n",
       "         [-0.0228,  0.0110,  0.0052,  ...,  0.0078,  0.0144,  0.0157],\n",
       "         [-0.0231,  0.0144, -0.0256,  ..., -0.0018,  0.0142, -0.0113]],\n",
       "        device='cuda:0', requires_grad=True))"
      ]
     },
     "execution_count": 40,
     "metadata": {},
     "output_type": "execute_result"
    }
   ],
   "source": [
    "next(model.named_parameters())"
   ]
  },
  {
   "cell_type": "code",
   "execution_count": null,
   "id": "5142aae9",
   "metadata": {},
   "outputs": [],
   "source": []
  }
 ],
 "metadata": {
  "kernelspec": {
   "display_name": "torch",
   "language": "python",
   "name": "torch"
  },
  "language_info": {
   "codemirror_mode": {
    "name": "ipython",
    "version": 3
   },
   "file_extension": ".py",
   "mimetype": "text/x-python",
   "name": "python",
   "nbconvert_exporter": "python",
   "pygments_lexer": "ipython3",
   "version": "3.9.0"
  },
  "toc": {
   "base_numbering": 1,
   "nav_menu": {},
   "number_sections": true,
   "sideBar": true,
   "skip_h1_title": false,
   "title_cell": "Table of Contents",
   "title_sidebar": "Contents",
   "toc_cell": false,
   "toc_position": {},
   "toc_section_display": true,
   "toc_window_display": false
  },
  "varInspector": {
   "cols": {
    "lenName": 16,
    "lenType": 16,
    "lenVar": 40
   },
   "kernels_config": {
    "python": {
     "delete_cmd_postfix": "",
     "delete_cmd_prefix": "del ",
     "library": "var_list.py",
     "varRefreshCmd": "print(var_dic_list())"
    },
    "r": {
     "delete_cmd_postfix": ") ",
     "delete_cmd_prefix": "rm(",
     "library": "var_list.r",
     "varRefreshCmd": "cat(var_dic_list()) "
    }
   },
   "types_to_exclude": [
    "module",
    "function",
    "builtin_function_or_method",
    "instance",
    "_Feature"
   ],
   "window_display": false
  }
 },
 "nbformat": 4,
 "nbformat_minor": 5
}

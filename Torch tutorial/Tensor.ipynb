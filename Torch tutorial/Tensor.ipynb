{
 "cells": [
  {
   "cell_type": "code",
   "execution_count": 1,
   "id": "40f133ee",
   "metadata": {
    "ExecuteTime": {
     "end_time": "2022-09-21T13:32:22.820410Z",
     "start_time": "2022-09-21T13:32:22.122613Z"
    }
   },
   "outputs": [],
   "source": [
    "import torch\n",
    "import numpy as np"
   ]
  },
  {
   "cell_type": "markdown",
   "id": "788dc4a1",
   "metadata": {},
   "source": [
    "# Initializing Tensor "
   ]
  },
  {
   "cell_type": "markdown",
   "id": "293210cd",
   "metadata": {},
   "source": [
    "## Make directly "
   ]
  },
  {
   "cell_type": "code",
   "execution_count": 2,
   "id": "04942791",
   "metadata": {
    "ExecuteTime": {
     "end_time": "2022-09-21T13:32:58.666830Z",
     "start_time": "2022-09-21T13:32:58.659875Z"
    }
   },
   "outputs": [],
   "source": [
    "data = [[1, 2],[3, 4]]\n",
    "x_data = torch.tensor(data)"
   ]
  },
  {
   "cell_type": "code",
   "execution_count": 3,
   "id": "11e5bd1a",
   "metadata": {
    "ExecuteTime": {
     "end_time": "2022-09-21T13:33:00.748408Z",
     "start_time": "2022-09-21T13:33:00.727465Z"
    }
   },
   "outputs": [
    {
     "data": {
      "text/plain": [
       "tensor([[1, 2],\n",
       "        [3, 4]])"
      ]
     },
     "execution_count": 3,
     "metadata": {},
     "output_type": "execute_result"
    }
   ],
   "source": [
    "x_data"
   ]
  },
  {
   "cell_type": "markdown",
   "id": "1b2c6ae9",
   "metadata": {},
   "source": [
    "##  Make from ndarray"
   ]
  },
  {
   "cell_type": "code",
   "execution_count": 4,
   "id": "bcc2ff9a",
   "metadata": {
    "ExecuteTime": {
     "end_time": "2022-09-21T13:33:53.413790Z",
     "start_time": "2022-09-21T13:33:53.396046Z"
    }
   },
   "outputs": [],
   "source": [
    "np_array = np.array(data)\n",
    "x_np = torch.from_numpy(np_array)"
   ]
  },
  {
   "cell_type": "code",
   "execution_count": 5,
   "id": "b970c880",
   "metadata": {
    "ExecuteTime": {
     "end_time": "2022-09-21T13:33:55.307197Z",
     "start_time": "2022-09-21T13:33:55.287711Z"
    }
   },
   "outputs": [
    {
     "data": {
      "text/plain": [
       "tensor([[1, 2],\n",
       "        [3, 4]], dtype=torch.int32)"
      ]
     },
     "execution_count": 5,
     "metadata": {},
     "output_type": "execute_result"
    }
   ],
   "source": [
    "x_np"
   ]
  },
  {
   "cell_type": "markdown",
   "id": "b8953c12",
   "metadata": {},
   "source": [
    "## Make from other tensor "
   ]
  },
  {
   "cell_type": "code",
   "execution_count": 7,
   "id": "e27ed05a",
   "metadata": {
    "ExecuteTime": {
     "end_time": "2022-09-21T13:35:24.112526Z",
     "start_time": "2022-09-21T13:35:24.099528Z"
    }
   },
   "outputs": [
    {
     "name": "stdout",
     "output_type": "stream",
     "text": [
      "Ones Tensoe: \n",
      " tensor([[1, 1],\n",
      "        [1, 1]]) \n",
      "\n",
      "Random Tensor: \n",
      " tensor([[0.8558, 0.0949],\n",
      "        [0.7605, 0.1524]]) \n",
      "\n"
     ]
    }
   ],
   "source": [
    "x_ones = torch.ones_like(x_data)\n",
    "print(\"Ones Tensoe: \\n {} \\n\".format(x_ones))\n",
    "\n",
    "x_rand = torch.rand_like(x_data, dtype=torch.float)\n",
    "print(\"Random Tensor: \\n {} \\n\".format(x_rand))"
   ]
  },
  {
   "cell_type": "markdown",
   "id": "8193eb71",
   "metadata": {},
   "source": [
    "## Make by shape?"
   ]
  },
  {
   "cell_type": "code",
   "execution_count": 9,
   "id": "f334bbbe",
   "metadata": {
    "ExecuteTime": {
     "end_time": "2022-09-21T13:37:49.891946Z",
     "start_time": "2022-09-21T13:37:49.879377Z"
    }
   },
   "outputs": [
    {
     "name": "stdout",
     "output_type": "stream",
     "text": [
      "Random Tensor: \n",
      " tensor([[0.1438, 0.6389, 0.0956],\n",
      "        [0.0007, 0.1774, 0.2580]]) \n",
      "\n",
      "Ones Tensor: \n",
      " tensor([[1., 1., 1.],\n",
      "        [1., 1., 1.]]) \n",
      "\n",
      "Zeros Tensor: \n",
      " tensor([[0., 0., 0.],\n",
      "        [0., 0., 0.]]) \n",
      "\n"
     ]
    }
   ],
   "source": [
    "shape = (2, 3,)\n",
    "rand_tensor = torch.rand(shape)\n",
    "ones_tensor = torch.ones(shape)\n",
    "zeros_tensor = torch.zeros(shape)\n",
    "\n",
    "print(\"Random Tensor: \\n {} \\n\".format(rand_tensor))\n",
    "print(\"Ones Tensor: \\n {} \\n\".format(ones_tensor))\n",
    "print(\"Zeros Tensor: \\n {} \\n\".format(zeros_tensor))"
   ]
  },
  {
   "cell_type": "markdown",
   "id": "b8d421f5",
   "metadata": {},
   "source": [
    "## Tensor's attribute "
   ]
  },
  {
   "cell_type": "code",
   "execution_count": 10,
   "id": "2aab7751",
   "metadata": {
    "ExecuteTime": {
     "end_time": "2022-09-21T13:39:20.107159Z",
     "start_time": "2022-09-21T13:39:20.091324Z"
    }
   },
   "outputs": [
    {
     "name": "stdout",
     "output_type": "stream",
     "text": [
      "Shape of tensor: torch.Size([3, 4])\n",
      "Datatype of Tensor: torch.float32\n",
      "Device tensor is stored on: cpu\n"
     ]
    }
   ],
   "source": [
    "tensor = torch.rand(3, 4)\n",
    "\n",
    "print(\"Shape of tensor: {}\".format(tensor.shape))\n",
    "print(\"Datatype of Tensor: {}\".format(tensor.dtype))\n",
    "print(\"Device tensor is stored on: {}\".format(tensor.device))"
   ]
  },
  {
   "cell_type": "markdown",
   "id": "786a36f8",
   "metadata": {},
   "source": [
    "# Tensor Operation "
   ]
  },
  {
   "cell_type": "code",
   "execution_count": 11,
   "id": "fd3d319f",
   "metadata": {
    "ExecuteTime": {
     "end_time": "2022-09-21T13:40:35.479701Z",
     "start_time": "2022-09-21T13:40:35.351066Z"
    }
   },
   "outputs": [],
   "source": [
    "if torch.cuda.is_available():\n",
    "    tensor = tensor.to(\"cuda\")"
   ]
  },
  {
   "cell_type": "code",
   "execution_count": 17,
   "id": "86468021",
   "metadata": {
    "ExecuteTime": {
     "end_time": "2022-09-21T13:42:25.881689Z",
     "start_time": "2022-09-21T13:42:25.871202Z"
    }
   },
   "outputs": [
    {
     "name": "stdout",
     "output_type": "stream",
     "text": [
      "First row: tensor([1., 1., 1., 1.])\n",
      "First column: tensor([1., 1., 1., 1.])\n",
      "Last column: tensor([1., 1., 1., 1.])\n",
      "tensor([[1., 0., 1., 1.],\n",
      "        [1., 0., 1., 1.],\n",
      "        [1., 0., 1., 1.],\n",
      "        [1., 0., 1., 1.]])\n"
     ]
    }
   ],
   "source": [
    "tensor = torch.ones(4, 4)\n",
    "print(\"First row: {}\".format(tensor[0]))\n",
    "print(\"First column: {}\".format(tensor[:, 0]))\n",
    "print(\"Last column: {}\".format(tensor[...,-1]))\n",
    "\n",
    "tensor[:,1] = 0\n",
    "print(tensor)"
   ]
  },
  {
   "cell_type": "code",
   "execution_count": 18,
   "id": "5b63e6ff",
   "metadata": {
    "ExecuteTime": {
     "end_time": "2022-09-21T13:43:05.334589Z",
     "start_time": "2022-09-21T13:43:05.323070Z"
    }
   },
   "outputs": [
    {
     "name": "stdout",
     "output_type": "stream",
     "text": [
      "tensor([[1., 0., 1., 1., 1., 0., 1., 1., 1., 0., 1., 1.],\n",
      "        [1., 0., 1., 1., 1., 0., 1., 1., 1., 0., 1., 1.],\n",
      "        [1., 0., 1., 1., 1., 0., 1., 1., 1., 0., 1., 1.],\n",
      "        [1., 0., 1., 1., 1., 0., 1., 1., 1., 0., 1., 1.]])\n"
     ]
    }
   ],
   "source": [
    "t1 = torch.cat([tensor, tensor, tensor], dim=1)\n",
    "print(t1)"
   ]
  },
  {
   "cell_type": "code",
   "execution_count": 22,
   "id": "f4cdfc21",
   "metadata": {
    "ExecuteTime": {
     "end_time": "2022-09-21T13:45:12.679318Z",
     "start_time": "2022-09-21T13:45:12.670512Z"
    }
   },
   "outputs": [
    {
     "data": {
      "text/plain": [
       "tensor([[1., 0., 1., 1.],\n",
       "        [1., 0., 1., 1.],\n",
       "        [1., 0., 1., 1.],\n",
       "        [1., 0., 1., 1.]])"
      ]
     },
     "execution_count": 22,
     "metadata": {},
     "output_type": "execute_result"
    }
   ],
   "source": [
    "y1 = tensor @ tensor.T\n",
    "y2 = tensor.matmul(tensor.T)\n",
    "\n",
    "y_3 = torch.rand_like(y1)\n",
    "torch.matmul(tensor, tensor.T, out=y_3)\n",
    "\n",
    "####\n",
    "#### above and below's operations are all same\n",
    "\n",
    "z1 = tensor * tensor\n",
    "z2 = tensor.mul(tensor)\n",
    "\n",
    "z3 = torch.rand_like(tensor)\n",
    "torch.mul(tensor, tensor, out=z3)"
   ]
  },
  {
   "cell_type": "code",
   "execution_count": 28,
   "id": "54097ecc",
   "metadata": {
    "ExecuteTime": {
     "end_time": "2022-09-21T13:46:31.819354Z",
     "start_time": "2022-09-21T13:46:31.810720Z"
    }
   },
   "outputs": [
    {
     "name": "stdout",
     "output_type": "stream",
     "text": [
      "12.0 <class 'float'>\n"
     ]
    }
   ],
   "source": [
    "agg = tensor.sum()\n",
    "agg_item = agg.item()\n",
    "### tensor.item() -> convert to python num\n",
    "\n",
    "print(agg_item, type(agg_item))"
   ]
  },
  {
   "cell_type": "code",
   "execution_count": 29,
   "id": "24a59922",
   "metadata": {
    "ExecuteTime": {
     "end_time": "2022-09-21T13:49:33.164109Z",
     "start_time": "2022-09-21T13:49:33.150634Z"
    }
   },
   "outputs": [
    {
     "name": "stdout",
     "output_type": "stream",
     "text": [
      "tensor([[1., 0., 1., 1.],\n",
      "        [1., 0., 1., 1.],\n",
      "        [1., 0., 1., 1.],\n",
      "        [1., 0., 1., 1.]])\n",
      "tensor([[6., 5., 6., 6.],\n",
      "        [6., 5., 6., 6.],\n",
      "        [6., 5., 6., 6.],\n",
      "        [6., 5., 6., 6.]])\n"
     ]
    }
   ],
   "source": [
    "print(tensor)\n",
    "tensor.add_(5)\n",
    "print(tensor)"
   ]
  },
  {
   "cell_type": "markdown",
   "id": "191e93e3",
   "metadata": {},
   "source": [
    "# Bridge? "
   ]
  },
  {
   "cell_type": "code",
   "execution_count": 30,
   "id": "f5fb9009",
   "metadata": {
    "ExecuteTime": {
     "end_time": "2022-09-21T13:56:52.307172Z",
     "start_time": "2022-09-21T13:56:52.294187Z"
    }
   },
   "outputs": [
    {
     "name": "stdout",
     "output_type": "stream",
     "text": [
      "tensor([1., 1., 1., 1., 1.])\n",
      "[1. 1. 1. 1. 1.]\n"
     ]
    }
   ],
   "source": [
    "t =torch.ones(5)\n",
    "print(t)\n",
    "n = t.numpy()\n",
    "print(n)"
   ]
  },
  {
   "cell_type": "code",
   "execution_count": 35,
   "id": "1ecc21c0",
   "metadata": {
    "ExecuteTime": {
     "end_time": "2022-09-21T13:57:18.726543Z",
     "start_time": "2022-09-21T13:57:18.705936Z"
    }
   },
   "outputs": [
    {
     "name": "stdout",
     "output_type": "stream",
     "text": [
      "tensor([5., 5., 5., 5., 5.])\n",
      "[5. 5. 5. 5. 5.]\n"
     ]
    }
   ],
   "source": [
    "t.add_(1)\n",
    "print(t)\n",
    "print(n)"
   ]
  },
  {
   "cell_type": "code",
   "execution_count": null,
   "id": "70198e9c",
   "metadata": {},
   "outputs": [],
   "source": []
  }
 ],
 "metadata": {
  "kernelspec": {
   "display_name": "torch",
   "language": "python",
   "name": "torch"
  },
  "language_info": {
   "codemirror_mode": {
    "name": "ipython",
    "version": 3
   },
   "file_extension": ".py",
   "mimetype": "text/x-python",
   "name": "python",
   "nbconvert_exporter": "python",
   "pygments_lexer": "ipython3",
   "version": "3.9.2"
  },
  "toc": {
   "base_numbering": 1,
   "nav_menu": {},
   "number_sections": true,
   "sideBar": true,
   "skip_h1_title": false,
   "title_cell": "Table of Contents",
   "title_sidebar": "Contents",
   "toc_cell": false,
   "toc_position": {},
   "toc_section_display": true,
   "toc_window_display": false
  },
  "varInspector": {
   "cols": {
    "lenName": 16,
    "lenType": 16,
    "lenVar": 40
   },
   "kernels_config": {
    "python": {
     "delete_cmd_postfix": "",
     "delete_cmd_prefix": "del ",
     "library": "var_list.py",
     "varRefreshCmd": "print(var_dic_list())"
    },
    "r": {
     "delete_cmd_postfix": ") ",
     "delete_cmd_prefix": "rm(",
     "library": "var_list.r",
     "varRefreshCmd": "cat(var_dic_list()) "
    }
   },
   "types_to_exclude": [
    "module",
    "function",
    "builtin_function_or_method",
    "instance",
    "_Feature"
   ],
   "window_display": false
  }
 },
 "nbformat": 4,
 "nbformat_minor": 5
}

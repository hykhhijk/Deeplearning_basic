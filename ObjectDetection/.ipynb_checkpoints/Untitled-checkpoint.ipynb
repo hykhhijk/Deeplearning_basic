{
 "cells": [
  {
   "cell_type": "code",
   "execution_count": 10,
   "id": "6cdc4a5e",
   "metadata": {
    "ExecuteTime": {
     "end_time": "2022-12-14T11:11:56.574516Z",
     "start_time": "2022-12-14T11:11:56.569913Z"
    }
   },
   "outputs": [],
   "source": [
    "import os\n",
    "import cv2\n",
    "import numpy as np\n",
    "import pandas as pd\n",
    "import tensorflow.keras as keras\n",
    "import tensorflow as tf\n",
    "import matplotlib.pyplot as plt\n",
    "import matplotlib.patches as patches\n",
    "import glob\n",
    "import pandas as pd\n",
    "import matplotlib.patches as mpatches\n",
    "import xml.etree.ElementTree as ET  \n",
    "from xml.etree.ElementTree import parse"
   ]
  },
  {
   "cell_type": "markdown",
   "id": "ca628d78",
   "metadata": {},
   "source": [
    "# Load data "
   ]
  },
  {
   "cell_type": "code",
   "execution_count": 3,
   "id": "6c54e0d8",
   "metadata": {
    "ExecuteTime": {
     "end_time": "2022-12-14T11:05:20.151029Z",
     "start_time": "2022-12-14T11:05:20.146723Z"
    }
   },
   "outputs": [],
   "source": [
    "image_path = \"/mnt/d/Data/od_tutorial/images/\"\n",
    "label_path = \"/mnt/d/Data/od_tutorial/annotations/\""
   ]
  },
  {
   "cell_type": "markdown",
   "id": "2be0567a",
   "metadata": {},
   "source": [
    "## make path for download"
   ]
  },
  {
   "cell_type": "code",
   "execution_count": 20,
   "id": "cc572458",
   "metadata": {
    "ExecuteTime": {
     "end_time": "2022-12-14T11:16:46.852590Z",
     "start_time": "2022-12-14T11:16:46.837089Z"
    }
   },
   "outputs": [],
   "source": [
    "img_paths = sorted([os.path.join(image_path, fname) for fname in os.listdir(image_path) if fname.endswith(\".jpg\")])\n",
    "label_paths = sorted([os.path.join(label_path, fname) for fname in os.listdir(label_path) if fname.endswith(\".xml\")])"
   ]
  },
  {
   "cell_type": "markdown",
   "id": "754c3636",
   "metadata": {},
   "source": [
    "## make bounding box labels"
   ]
  },
  {
   "cell_type": "code",
   "execution_count": 21,
   "id": "858e2336",
   "metadata": {
    "ExecuteTime": {
     "end_time": "2022-12-14T11:16:48.348351Z",
     "start_time": "2022-12-14T11:16:47.996558Z"
    }
   },
   "outputs": [],
   "source": [
    "k = len(img_paths)\n",
    "data_list=[]\n",
    "\n",
    "for i in range(k):  \n",
    "    annotation_file=label_paths[i]\n",
    "    tree = parse(annotation_file)\n",
    "    root = tree.getroot()\n",
    "\n",
    "    # Iterating over each object elements\n",
    "    for object in ds.iter(\"object\"):\n",
    "        \n",
    "        x_min = int(object.find('bndbox').findtext('xmin'))\n",
    "        y_min = int(object.find('bndbox').findtext('ymin'))\n",
    "        x_max = int(object.find('bndbox').findtext('xmax'))\n",
    "        y_max = int(object.find('bndbox').findtext('ymax'))\n",
    "        \n",
    "        # in case the boundary goes above its limis, providing some restrictions.\n",
    "        if x_min >= x_max or y_min >= y_max:\n",
    "            continue\n",
    "        elif x_max <= x_min or y_max <= y_min:\n",
    "            continue\n",
    "        \n",
    "        sample = [str(img_paths[i]), x_min, y_min, x_max, y_max]\n",
    "        \n",
    "        data_list.append(sample)\n",
    "        \n",
    "data = pd.DataFrame(data_list)"
   ]
  },
  {
   "cell_type": "code",
   "execution_count": 24,
   "id": "7dffe7ec",
   "metadata": {
    "ExecuteTime": {
     "end_time": "2022-12-14T11:17:05.917506Z",
     "start_time": "2022-12-14T11:17:05.908639Z"
    }
   },
   "outputs": [
    {
     "data": {
      "text/html": [
       "<div>\n",
       "<style scoped>\n",
       "    .dataframe tbody tr th:only-of-type {\n",
       "        vertical-align: middle;\n",
       "    }\n",
       "\n",
       "    .dataframe tbody tr th {\n",
       "        vertical-align: top;\n",
       "    }\n",
       "\n",
       "    .dataframe thead th {\n",
       "        text-align: right;\n",
       "    }\n",
       "</style>\n",
       "<table border=\"1\" class=\"dataframe\">\n",
       "  <thead>\n",
       "    <tr style=\"text-align: right;\">\n",
       "      <th></th>\n",
       "      <th>0</th>\n",
       "      <th>1</th>\n",
       "      <th>2</th>\n",
       "      <th>3</th>\n",
       "      <th>4</th>\n",
       "    </tr>\n",
       "  </thead>\n",
       "  <tbody>\n",
       "    <tr>\n",
       "      <th>0</th>\n",
       "      <td>/mnt/d/Data/od_tutorial/images/a (1).jpg</td>\n",
       "      <td>38</td>\n",
       "      <td>54</td>\n",
       "      <td>179</td>\n",
       "      <td>173</td>\n",
       "    </tr>\n",
       "    <tr>\n",
       "      <th>1</th>\n",
       "      <td>/mnt/d/Data/od_tutorial/images/a (10).jpg</td>\n",
       "      <td>38</td>\n",
       "      <td>54</td>\n",
       "      <td>179</td>\n",
       "      <td>173</td>\n",
       "    </tr>\n",
       "    <tr>\n",
       "      <th>2</th>\n",
       "      <td>/mnt/d/Data/od_tutorial/images/a (100).jpg</td>\n",
       "      <td>38</td>\n",
       "      <td>54</td>\n",
       "      <td>179</td>\n",
       "      <td>173</td>\n",
       "    </tr>\n",
       "    <tr>\n",
       "      <th>3</th>\n",
       "      <td>/mnt/d/Data/od_tutorial/images/a (101).jpg</td>\n",
       "      <td>38</td>\n",
       "      <td>54</td>\n",
       "      <td>179</td>\n",
       "      <td>173</td>\n",
       "    </tr>\n",
       "    <tr>\n",
       "      <th>4</th>\n",
       "      <td>/mnt/d/Data/od_tutorial/images/a (102).jpg</td>\n",
       "      <td>38</td>\n",
       "      <td>54</td>\n",
       "      <td>179</td>\n",
       "      <td>173</td>\n",
       "    </tr>\n",
       "  </tbody>\n",
       "</table>\n",
       "</div>"
      ],
      "text/plain": [
       "                                            0   1   2    3    4\n",
       "0    /mnt/d/Data/od_tutorial/images/a (1).jpg  38  54  179  173\n",
       "1   /mnt/d/Data/od_tutorial/images/a (10).jpg  38  54  179  173\n",
       "2  /mnt/d/Data/od_tutorial/images/a (100).jpg  38  54  179  173\n",
       "3  /mnt/d/Data/od_tutorial/images/a (101).jpg  38  54  179  173\n",
       "4  /mnt/d/Data/od_tutorial/images/a (102).jpg  38  54  179  173"
      ]
     },
     "execution_count": 24,
     "metadata": {},
     "output_type": "execute_result"
    }
   ],
   "source": [
    "data.head(5)"
   ]
  },
  {
   "cell_type": "markdown",
   "id": "c28204b8",
   "metadata": {},
   "source": [
    "## visualize bbox"
   ]
  },
  {
   "cell_type": "code",
   "execution_count": 29,
   "id": "4d4c8a24",
   "metadata": {
    "ExecuteTime": {
     "end_time": "2022-12-14T11:19:50.254449Z",
     "start_time": "2022-12-14T11:19:50.166282Z"
    }
   },
   "outputs": [
    {
     "data": {
      "text/plain": [
       "<matplotlib.image.AxesImage at 0x7ff79a085a60>"
      ]
     },
     "execution_count": 29,
     "metadata": {},
     "output_type": "execute_result"
    },
    {
     "data": {
      "image/png": "[encoded data removed]",
      "text/plain": [
       "<Figure size 640x480 with 1 Axes>"
      ]
     },
     "metadata": {},
     "output_type": "display_data"
    }
   ],
   "source": [
    "img = plt.imread(data[0][0])\n",
    "cv2.rectangle(img,(data[1][0], data[2][0]),(data[3][0], data[4][0]), (0,255,0))\n",
    "plt.imshow(img)"
   ]
  },
  {
   "cell_type": "markdown",
   "id": "e906918b",
   "metadata": {},
   "source": [
    "## load images"
   ]
  },
  {
   "cell_type": "code",
   "execution_count": 51,
   "id": "82199b09",
   "metadata": {
    "ExecuteTime": {
     "end_time": "2022-12-14T12:25:55.716500Z",
     "start_time": "2022-12-14T12:25:55.712231Z"
    }
   },
   "outputs": [],
   "source": [
    "def proc_image(path):\n",
    "    image = tf.io.read_file(path)\n",
    "    image = tf.image.decode_jpeg(image, channels=3)\n",
    "    image = tf.cast(image, tf.float64)\n",
    "    return image/255.0"
   ]
  },
  {
   "cell_type": "code",
   "execution_count": 52,
   "id": "20de6079",
   "metadata": {
    "ExecuteTime": {
     "end_time": "2022-12-14T12:25:55.977717Z",
     "start_time": "2022-12-14T12:25:55.974042Z"
    }
   },
   "outputs": [],
   "source": [
    "def proc_image_cv2(path):\n",
    "    image = cv2.imread(path)\n",
    "    image = np.float32(image)\n",
    "    return image/255.0"
   ]
  },
  {
   "cell_type": "markdown",
   "id": "20e691d3",
   "metadata": {},
   "source": [
    "using tf.io_read_file instead cv2.imread  \n",
    "It make possible to us GPU for read image"
   ]
  },
  {
   "cell_type": "code",
   "execution_count": 63,
   "id": "caf2ce17",
   "metadata": {
    "ExecuteTime": {
     "end_time": "2022-12-14T12:26:09.402095Z",
     "start_time": "2022-12-14T12:26:09.009671Z"
    }
   },
   "outputs": [],
   "source": [
    "image_dataset = []\n",
    "for img in img_paths:\n",
    "    image_dataset.append(proc_image(img))"
   ]
  },
  {
   "cell_type": "code",
   "execution_count": 64,
   "id": "391f2ad4",
   "metadata": {
    "ExecuteTime": {
     "end_time": "2022-12-14T12:26:10.280354Z",
     "start_time": "2022-12-14T12:26:09.696820Z"
    }
   },
   "outputs": [],
   "source": [
    "image_dataset = []\n",
    "for img in img_paths:\n",
    "    image_dataset.append(proc_image_cv2(img))"
   ]
  },
  {
   "cell_type": "code",
   "execution_count": null,
   "id": "633638b4",
   "metadata": {},
   "outputs": [],
   "source": []
  }
 ],
 "metadata": {
  "kernelspec": {
   "display_name": "base",
   "language": "python",
   "name": "dl"
  },
  "language_info": {
   "codemirror_mode": {
    "name": "ipython",
    "version": 3
   },
   "file_extension": ".py",
   "mimetype": "text/x-python",
   "name": "python",
   "nbconvert_exporter": "python",
   "pygments_lexer": "ipython3",
   "version": "3.9.2"
  },
  "toc": {
   "base_numbering": 1,
   "nav_menu": {},
   "number_sections": true,
   "sideBar": true,
   "skip_h1_title": false,
   "title_cell": "Table of Contents",
   "title_sidebar": "Contents",
   "toc_cell": false,
   "toc_position": {
    "height": "calc(100% - 180px)",
    "left": "10px",
    "top": "150px",
    "width": "266px"
   },
   "toc_section_display": true,
   "toc_window_display": true
  },
  "varInspector": {
   "cols": {
    "lenName": 16,
    "lenType": 16,
    "lenVar": 40
   },
   "kernels_config": {
    "python": {
     "delete_cmd_postfix": "",
     "delete_cmd_prefix": "del ",
     "library": "var_list.py",
     "varRefreshCmd": "print(var_dic_list())"
    },
    "r": {
     "delete_cmd_postfix": ") ",
     "delete_cmd_prefix": "rm(",
     "library": "var_list.r",
     "varRefreshCmd": "cat(var_dic_list()) "
    }
   },
   "types_to_exclude": [
    "module",
    "function",
    "builtin_function_or_method",
    "instance",
    "_Feature"
   ],
   "window_display": false
  }
 },
 "nbformat": 4,
 "nbformat_minor": 5
}
